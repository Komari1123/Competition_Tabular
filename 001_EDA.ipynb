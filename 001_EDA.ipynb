{
 "cells": [
  {
   "cell_type": "code",
   "execution_count": 42,
   "metadata": {},
   "outputs": [],
   "source": [
    "import numpy as np\n",
    "import matplotlib.pyplot as plt\n",
    "import pandas as pd\n",
    "import pandas_profiling as pdp #pdp.ProfileReport \n",
    "import seaborn as sns\n",
    "import gc \n",
    "import warnings\n",
    "warnings.filterwarnings(\"ignore\")\n",
    "import sys\n",
    "pkl_path = './Data/Pickle/'\n",
    "pd.set_option(\"max_columns\", 300)\n",
    "pd.set_option(\"max_rows\", 300)\n",
    "sys.path.append(\"./script\")\n",
    "from Data_load import data_load , check_data # 0:csv, 1:pickle data_load & check_data\n",
    "from Group_agg import get_grpby_features #(data, agg_name_list, categorical_columns, numeric_columns)\n",
    "from Prepro_cat import pre_cat #(df_train , df_test , cat_list , prepro_type) prepro = ['one-hot','label','freq']\n",
    "from Create_memo import create_memo # create_memo('特徴量','メモ')"
   ]
  },
  {
   "cell_type": "code",
   "execution_count": 45,
   "metadata": {},
   "outputs": [],
   "source": [
    "train = data_load('train',0)\n",
    "test = data_load('test',1)\n",
    "submission = data_load('gender_submission',1)"
   ]
  }
 ],
 "metadata": {
  "kernelspec": {
   "display_name": "Python 3",
   "language": "python",
   "name": "python3"
  },
  "language_info": {
   "codemirror_mode": {
    "name": "ipython",
    "version": 3
   },
   "file_extension": ".py",
   "mimetype": "text/x-python",
   "name": "python",
   "nbconvert_exporter": "python",
   "pygments_lexer": "ipython3",
   "version": "3.7.3"
  }
 },
 "nbformat": 4,
 "nbformat_minor": 4
}
